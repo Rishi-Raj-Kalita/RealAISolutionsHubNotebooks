{
 "cells": [
  {
   "cell_type": "code",
   "execution_count": null,
   "metadata": {},
   "outputs": [],
   "source": [
    "from linkedin_api import Linkedin\n",
    "from dotenv import load_dotenv\n",
    "import os\n",
    "load_dotenv()"
   ]
  },
  {
   "cell_type": "code",
   "execution_count": null,
   "metadata": {},
   "outputs": [],
   "source": [
    "def get_model(model: str = 'deepseek-r1:7b', provider: str = 'local'):\n",
    "    if (provider == 'local'):\n",
    "        from langchain_ollama import ChatOllama\n",
    "        llm = ChatOllama(model=model, temperature=0.8)\n",
    "        return llm\n",
    "    elif (provider=='llama'):\n",
    "        from langchain_ollama import ChatOllama\n",
    "        llm = ChatOllama(model='llama3.1', temperature=0.8)\n",
    "        return llm\n",
    "    elif (provider == 'aws'):\n",
    "        from langchain_aws import ChatBedrockConverse\n",
    "        import boto3\n",
    "        access_key = os.getenv('ACCESS_KEY')\n",
    "        secret_key = os.getenv('SECRET_KEY')\n",
    "        bedrock_client = boto3.client('bedrock-runtime',\n",
    "                                      region_name='us-east-1',\n",
    "                                      aws_access_key_id=access_key,\n",
    "                                      aws_secret_access_key=secret_key)\n",
    "        llm = ChatBedrockConverse(client=bedrock_client,\n",
    "                                  model=model,\n",
    "                                  temperature=0.8)\n",
    "        return llm\n",
    "\n",
    "\n",
    "def get_embeddings(model:str='deepseek-r1:7b', provider:str='local'):\n",
    "    if(provider == 'local'):\n",
    "        from langchain_ollama import OllamaEmbeddings\n",
    "        embeddings=OllamaEmbeddings(model=model)\n",
    "        return embeddings\n",
    "    elif(provider == 'aws'):\n",
    "        from langchain_aws import BedrockEmbeddings\n",
    "        import boto3\n",
    "        access_key=os.getenv('ACCESS_KEY')\n",
    "        secret_key=os.getenv('SECRET_KEY')\n",
    "        bedrock_client=boto3.client('bedrock-runtime', region_name='us-east-1', aws_access_key_id=access_key, aws_secret_access_key=secret_key)\n",
    "        embeddings=BedrockEmbeddings(client=bedrock_client, model_id=model)\n",
    "        return embeddings"
   ]
  },
  {
   "cell_type": "code",
   "execution_count": null,
   "metadata": {},
   "outputs": [],
   "source": [
    "user_name=os.getenv('LINKEDIN_NAME')\n",
    "user_pass=os.getenv('LINKEDIN_PASSWORD')\n",
    "\n",
    "api=Linkedin(user_name,user_pass)\n",
    "print(dir(api))"
   ]
  },
  {
   "cell_type": "code",
   "execution_count": null,
   "metadata": {},
   "outputs": [],
   "source": [
    "feed_result=api.get_profile_posts(public_id='nir-diamant-ai')"
   ]
  },
  {
   "cell_type": "code",
   "execution_count": null,
   "metadata": {},
   "outputs": [],
   "source": [
    "print(feed_result[0]['actor']['name']['text'])"
   ]
  },
  {
   "cell_type": "code",
   "execution_count": null,
   "metadata": {},
   "outputs": [],
   "source": [
    "import re\n",
    "\n",
    "links = []\n",
    "posts=[]\n",
    "public_ids=['nir-diamant-ai','areganti']\n",
    "for id in public_ids:\n",
    "    feed_result=api.get_profile_posts(public_id=id, post_count=5)\n",
    "    author=feed_result[0]['actor']['name']['text']\n",
    "    for idx, result in enumerate(feed_result):\n",
    "        text = f\"Author:{author}\\n\\n{result['commentary']['text']['text']}\"\n",
    "        \n",
    "        posts.append({\"idx\":idx,\"post\":text})\n",
    "        # print(text)\n",
    "        url_pattern = r\"https?://\\S+\"\n",
    "        urls = re.findall(url_pattern, text)\n",
    "        for url in urls:\n",
    "            links.append({\"idx\": idx, \"url\": url})\n",
    "    # print(\"-\" * 80)\n",
    "\n",
    "# print(links)"
   ]
  },
  {
   "cell_type": "code",
   "execution_count": 143,
   "metadata": {},
   "outputs": [],
   "source": [
    "from langgraph.graph import StateGraph, END\n",
    "from langgraph.checkpoint.memory import MemorySaver\n",
    "from typing import List, Tuple, Annotated, TypedDict\n",
    "import operator\n",
    "from langchain_core.prompts import PromptTemplate\n",
    "\n",
    "\n",
    "class GraphState(TypedDict):\n",
    "    intermediate_steps: Annotated[List[Tuple], operator.add]\n",
    "    summaries:List[str]\n",
    "    feeds:List[str]\n",
    "    top_feeds:str\n",
    "\n",
    "model=get_model()\n",
    "def summarize_text(state:GraphState):\n",
    "    prompt=PromptTemplate(\n",
    "        template=\n",
    "        \"\"\"\n",
    "        System: You will be given a linkedin post and you will try to summarize it capturing as much information as possible. \n",
    "        Include the name of the author in the summary as well\n",
    "        User: Linkedin Post \\n:{text}\n",
    "        \"\"\",\n",
    "        input_variables=['text']\n",
    "    )\n",
    "    chain=prompt|model\n",
    "\n",
    "    summaries=[]\n",
    "    steps=[]\n",
    "    for feed in state['feeds']:\n",
    "        response=chain.invoke({\"text\":feed})\n",
    "        summaries.append(response.content)\n",
    "        steps.append((feed, response.content))\n",
    "\n",
    "\n",
    "    return {\"summaries\":summaries, \"intermediate_steps\":steps}\n",
    "\n",
    "\n",
    "def get_feeds(state: GraphState):\n",
    "    # print(\"inside top feeds\")\n",
    "    summaries_arr = state['summaries']\n",
    "    summaries = \"\\n\\n\".join(summaries_arr)\n",
    "    # print(\"summaries_required\")\n",
    "    # print(summaries)\n",
    "    prompt = PromptTemplate(template=\"\"\"\n",
    "        System: \n",
    "            You will be provided with multiple summaries of LinkedIn posts. Your task is to select the top 5 LinkedIn posts based on the following criteria:\n",
    "            Prioritize posts that highlight the latest AI releases.\n",
    "            Give more importance to posts showcasing AI project ideas and demos.\n",
    "            Ignore posts that are promoting courses or course enrollments.\n",
    "        Instructions:\n",
    "            -Include the author's name in each selected summary.\n",
    "            -Format your output in a structured way for readability.\n",
    "            -Additionally, use the selected summaries to create a podcast script summarizing the key insights from these top 5 posts.\n",
    "        User: Linkedin Post \\n:{summaries}. Top 5 Linkedin Posts:\\n\\n\n",
    "        \"\"\",\n",
    "        input_variables=['summaries'])\n",
    "    chain = prompt | model\n",
    "\n",
    "    response = chain.invoke({\"summaries\": summaries})\n",
    "    # print(response.content)\n",
    "    return {\n",
    "        \"top_feeds\": response.content,\n",
    "        \"intermediate_steps\": [(summaries, response.content)]\n",
    "    }\n"
   ]
  },
  {
   "cell_type": "code",
   "execution_count": 144,
   "metadata": {},
   "outputs": [],
   "source": [
    "memory=MemorySaver()\n",
    "workflow=StateGraph(GraphState)\n",
    "\n",
    "workflow.add_node(\"Summarizer\",summarize_text)\n",
    "workflow.add_node(\"Top_feeds\",get_feeds)\n",
    "\n",
    "workflow.add_edge(\"Summarizer\",\"Top_feeds\")\n",
    "workflow.add_edge(\"Top_feeds\",END)\n",
    "workflow.set_entry_point(\"Summarizer\")\n",
    "\n",
    "graph=workflow.compile(checkpointer=memory)\n",
    "\n",
    "\n"
   ]
  },
  {
   "cell_type": "code",
   "execution_count": 145,
   "metadata": {},
   "outputs": [
    {
     "data": {
      "image/png": "[encoded data removed]",
      "text/plain": [
       "<IPython.core.display.Image object>"
      ]
     },
     "metadata": {},
     "output_type": "display_data"
    }
   ],
   "source": [
    "from IPython.display import Image, display\n",
    "\n",
    "try:\n",
    "    display(Image(graph.get_graph(xray=True).draw_mermaid_png()))\n",
    "except:\n",
    "    print(\"fail\")\n",
    "    pass"
   ]
  },
  {
   "cell_type": "code",
   "execution_count": 146,
   "metadata": {},
   "outputs": [
    {
     "name": "stderr",
     "output_type": "stream",
     "text": [
      "INFO:httpx:HTTP Request: POST http://127.0.0.1:11434/api/chat \"HTTP/1.1 200 OK\"\n",
      "INFO:httpx:HTTP Request: POST http://127.0.0.1:11434/api/chat \"HTTP/1.1 200 OK\"\n",
      "INFO:httpx:HTTP Request: POST http://127.0.0.1:11434/api/chat \"HTTP/1.1 200 OK\"\n",
      "INFO:httpx:HTTP Request: POST http://127.0.0.1:11434/api/chat \"HTTP/1.1 200 OK\"\n",
      "INFO:httpx:HTTP Request: POST http://127.0.0.1:11434/api/chat \"HTTP/1.1 200 OK\"\n",
      "INFO:httpx:HTTP Request: POST http://127.0.0.1:11434/api/chat \"HTTP/1.1 200 OK\"\n",
      "INFO:httpx:HTTP Request: POST http://127.0.0.1:11434/api/chat \"HTTP/1.1 200 OK\"\n",
      "INFO:httpx:HTTP Request: POST http://127.0.0.1:11434/api/chat \"HTTP/1.1 200 OK\"\n",
      "INFO:httpx:HTTP Request: POST http://127.0.0.1:11434/api/chat \"HTTP/1.1 200 OK\"\n",
      "INFO:httpx:HTTP Request: POST http://127.0.0.1:11434/api/chat \"HTTP/1.1 200 OK\"\n",
      "INFO:httpx:HTTP Request: POST http://127.0.0.1:11434/api/chat \"HTTP/1.1 200 OK\"\n"
     ]
    }
   ],
   "source": [
    "respone=graph.invoke({\"feeds\":posts},config={\"configurable\": {\"thread_id\": \"1\"}})\n",
    "    "
   ]
  },
  {
   "cell_type": "code",
   "execution_count": 147,
   "metadata": {},
   "outputs": [
    {
     "name": "stdout",
     "output_type": "stream",
     "text": [
      "<think>\n",
      "Okay, so I need to summarize this LinkedIn post by Aishwarya Naresh Reganti about the challenges in online tech interviews being overtaken by AI. The user has provided some key points from the post.\n",
      "\n",
      "First, I should identify the main issues addressed: outdated processes in online tech interviews due to AI advancements, how many interview questions and codes can be answered by AI models, and the potential implications for human interviewers. Then, include specific examples like the interview app mentioned and the actual FAQ table provided.\n",
      "\n",
      "I need to make sure the summary is concise but covers all these points without being too lengthy.\n",
      "</think>\n",
      "\n",
      "Aishwarya Naresh Reganti critiques the outdated nature of online tech interviews in the AI era, noting that many common questions and codes can now be efficiently answered by AI models. They highlight examples like an interview app designed to assist candidates with such inquiries, adding complexity as it blurs the line between interviewer and interviewee. The post also points out discrepancies noticed during interviews, such as inorganic responses, yet without concrete evidence to address these issues. Ultimately, the author calls for a reevaluation of online tech processes, acknowledging their flawed nature while emphasizing the need for change.\n",
      "\n",
      "**Summary:**\n",
      "\n",
      "Aishwarya Naresh Reganti examines the challenges of online tech interviews in an AI-driven world, where many questions and codes can be answered by AI models. They highlight examples like interview apps designed to assist candidates but also note discrepancies noticed during interviews without clear proof. The post calls for a reevaluation of these processes acknowledging their flaws while emphasizing the need for change.\n"
     ]
    }
   ],
   "source": [
    "print(respone['top_feeds'])"
   ]
  },
  {
   "cell_type": "code",
   "execution_count": null,
   "metadata": {},
   "outputs": [],
   "source": []
  }
 ],
 "metadata": {
  "kernelspec": {
   "display_name": "Python 3",
   "language": "python",
   "name": "python3"
  },
  "language_info": {
   "codemirror_mode": {
    "name": "ipython",
    "version": 3
   },
   "file_extension": ".py",
   "mimetype": "text/x-python",
   "name": "python",
   "nbconvert_exporter": "python",
   "pygments_lexer": "ipython3",
   "version": "3.13.2"
  }
 },
 "nbformat": 4,
 "nbformat_minor": 2
}
