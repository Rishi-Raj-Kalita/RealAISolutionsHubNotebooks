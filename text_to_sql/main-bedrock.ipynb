{
 "cells": [
  {
   "cell_type": "code",
   "execution_count": 1,
   "metadata": {},
   "outputs": [
    {
     "data": {
      "text/plain": [
       "True"
      ]
     },
     "execution_count": 1,
     "metadata": {},
     "output_type": "execute_result"
    }
   ],
   "source": [
    "import vanna\n",
    "from vanna.remote import VannaDefault\n",
    "from dotenv import load_dotenv\n",
    "import os\n",
    "load_dotenv()"
   ]
  },
  {
   "cell_type": "code",
   "execution_count": 5,
   "metadata": {},
   "outputs": [],
   "source": [
    "from vanna.bedrock import Bedrock_Converse\n",
    "from vanna.chromadb import ChromaDB_VectorStore"
   ]
  },
  {
   "cell_type": "code",
   "execution_count": 6,
   "metadata": {},
   "outputs": [],
   "source": [
    "class MyVanna(ChromaDB_VectorStore, Bedrock_Converse):\n",
    "    def __init__(self, config=None, client=None):\n",
    "        ChromaDB_VectorStore.__init__(self, config=config)\n",
    "        Bedrock_Converse.__init__(self, config=config, client=client)\n",
    "        "
   ]
  },
  {
   "cell_type": "code",
   "execution_count": 7,
   "metadata": {},
   "outputs": [],
   "source": [
    "def get_model(model: str = 'deepseek-r1:7b', provider: str = 'local'):\n",
    "    if (provider == 'local'):\n",
    "        from langchain_ollama import ChatOllama\n",
    "        llm = ChatOllama(model=model, temperature=0.8)\n",
    "        return llm\n",
    "    elif (provider=='llama'):\n",
    "        from langchain_ollama import ChatOllama\n",
    "        llm = ChatOllama(model='llama3.1', temperature=0.8)\n",
    "        return llm\n",
    "    elif (provider == 'aws'):\n",
    "        from langchain_aws import ChatBedrockConverse\n",
    "        import boto3\n",
    "        access_key = os.getenv('ACCESS_KEY')\n",
    "        secret_key = os.getenv('SECRET_KEY')\n",
    "        bedrock_client = boto3.client('bedrock-runtime',\n",
    "                                      region_name='us-east-1',\n",
    "                                      aws_access_key_id=access_key,\n",
    "                                      aws_secret_access_key=secret_key)\n",
    "        llm = ChatBedrockConverse(client=bedrock_client,\n",
    "                                  model=model,\n",
    "                                  temperature=0.8)\n",
    "        return llm\n",
    "\n",
    "\n",
    "def get_embeddings(model:str='deepseek-r1:7b', provider:str='local'):\n",
    "    if(provider == 'local'):\n",
    "        from langchain_ollama import OllamaEmbeddings\n",
    "        embeddings=OllamaEmbeddings(model=model)\n",
    "        return embeddings\n",
    "    elif(provider == 'aws'):\n",
    "        from langchain_aws import BedrockEmbeddings\n",
    "        import boto3\n",
    "        access_key=os.getenv('ACCESS_KEY')\n",
    "        secret_key=os.getenv('SECRET_KEY')\n",
    "        bedrock_client=boto3.client('bedrock-runtime', region_name='us-east-1', aws_access_key_id=access_key, aws_secret_access_key=secret_key)\n",
    "        embeddings=BedrockEmbeddings(client=bedrock_client, model_id=model)\n",
    "        return embeddings"
   ]
  },
  {
   "cell_type": "code",
   "execution_count": 10,
   "metadata": {},
   "outputs": [],
   "source": [
    "from langchain_aws import ChatBedrockConverse\n",
    "import boto3\n",
    "access_key = os.getenv('ACCESS_KEY')\n",
    "secret_key = os.getenv('SECRET_KEY')\n",
    "bedrock_client = boto3.client('bedrock-runtime',\n",
    "                                region_name='us-east-1',\n",
    "                                aws_access_key_id=access_key,\n",
    "                                aws_secret_access_key=secret_key)"
   ]
  },
  {
   "cell_type": "code",
   "execution_count": 12,
   "metadata": {},
   "outputs": [],
   "source": [
    "vn = MyVanna(client=bedrock_client, config={'modelId':\"anthropic.claude-3-sonnet-20240229-v1:0\"})"
   ]
  },
  {
   "cell_type": "code",
   "execution_count": 13,
   "metadata": {},
   "outputs": [],
   "source": [
    "vn.connect_to_postgres(host=os.getenv('DB_HOST'), dbname='pagila', user='avnadmin', password=os.getenv('DB_PASSWORD'), port=10780)"
   ]
  },
  {
   "cell_type": "code",
   "execution_count": 14,
   "metadata": {},
   "outputs": [],
   "source": [
    "df_information_schema = vn.run_sql(\"SELECT * FROM INFORMATION_SCHEMA.COLUMNS where table_schema = 'public'\")"
   ]
  },
  {
   "cell_type": "code",
   "execution_count": 15,
   "metadata": {},
   "outputs": [],
   "source": [
    "plan = vn.get_training_plan_generic(df_information_schema)"
   ]
  },
  {
   "cell_type": "code",
   "execution_count": 21,
   "metadata": {},
   "outputs": [
    {
     "name": "stdout",
     "output_type": "stream",
     "text": [
      "Train on Information Schema: pagila.public film_list\n",
      "Train on Information Schema: pagila.public address\n",
      "Train on Information Schema: pagila.public payment_p2020_05\n",
      "Train on Information Schema: pagila.public customer\n",
      "Train on Information Schema: pagila.public actor\n",
      "Train on Information Schema: pagila.public staff_list\n",
      "Train on Information Schema: pagila.public category\n",
      "Train on Information Schema: pagila.public payment_p2020_04\n",
      "Train on Information Schema: pagila.public film\n",
      "Train on Information Schema: pagila.public store\n",
      "Train on Information Schema: pagila.public rental\n",
      "Train on Information Schema: pagila.public payment_p2020_03\n",
      "Train on Information Schema: pagila.public sales_by_store\n",
      "Train on Information Schema: pagila.public customer_list\n",
      "Train on Information Schema: pagila.public nicer_but_slower_film_list\n",
      "Train on Information Schema: pagila.public language\n",
      "Train on Information Schema: pagila.public payment_p2020_06\n",
      "Train on Information Schema: pagila.public staff\n",
      "Train on Information Schema: pagila.public payment_p2020_02\n",
      "Train on Information Schema: pagila.public country\n",
      "Train on Information Schema: pagila.public payment_p2020_01\n",
      "Train on Information Schema: pagila.public payment\n",
      "Train on Information Schema: pagila.public inventory\n",
      "Train on Information Schema: pagila.public actor_info\n",
      "Train on Information Schema: pagila.public film_category\n",
      "Train on Information Schema: pagila.public film_actor\n",
      "Train on Information Schema: pagila.public sales_by_film_category\n",
      "Train on Information Schema: pagila.public city\n"
     ]
    }
   ],
   "source": [
    "print(plan)"
   ]
  },
  {
   "cell_type": "code",
   "execution_count": 24,
   "metadata": {},
   "outputs": [],
   "source": [
    "vn.train(plan=plan)"
   ]
  },
  {
   "cell_type": "code",
   "execution_count": 22,
   "metadata": {},
   "outputs": [
    {
     "name": "stdout",
     "output_type": "stream",
     "text": [
      "Adding ddl: \n",
      "CREATE TABLE IF NOT EXISTS public.actor\n",
      "(\n",
      "    actor_id integer NOT NULL DEFAULT nextval('actor_actor_id_seq'::regclass),\n",
      "    first_name text COLLATE pg_catalog.\"default\" NOT NULL,\n",
      "    last_name text COLLATE pg_catalog.\"default\" NOT NULL,\n",
      "    last_update timestamp with time zone NOT NULL DEFAULT now(),\n",
      "    CONSTRAINT actor_pkey PRIMARY KEY (actor_id)\n",
      ")\n",
      "\n"
     ]
    },
    {
     "name": "stderr",
     "output_type": "stream",
     "text": [
      "/Users/rishirajkalita/.cache/chroma/onnx_models/all-MiniLM-L6-v2/onnx.tar.gz: 100%|██████████| 79.3M/79.3M [04:37<00:00, 300kiB/s] \n"
     ]
    },
    {
     "data": {
      "text/plain": [
       "'b19949a0-4e68-5f82-8b8e-c76757cee726-ddl'"
      ]
     },
     "execution_count": 22,
     "metadata": {},
     "output_type": "execute_result"
    }
   ],
   "source": [
    "vn.train(ddl=\"\"\"\n",
    "CREATE TABLE IF NOT EXISTS public.actor\n",
    "(\n",
    "    actor_id integer NOT NULL DEFAULT nextval('actor_actor_id_seq'::regclass),\n",
    "    first_name text COLLATE pg_catalog.\"default\" NOT NULL,\n",
    "    last_name text COLLATE pg_catalog.\"default\" NOT NULL,\n",
    "    last_update timestamp with time zone NOT NULL DEFAULT now(),\n",
    "    CONSTRAINT actor_pkey PRIMARY KEY (actor_id)\n",
    ")\n",
    "\"\"\")"
   ]
  },
  {
   "cell_type": "code",
   "execution_count": 25,
   "metadata": {},
   "outputs": [
    {
     "data": {
      "text/html": [
       "<div>\n",
       "<style scoped>\n",
       "    .dataframe tbody tr th:only-of-type {\n",
       "        vertical-align: middle;\n",
       "    }\n",
       "\n",
       "    .dataframe tbody tr th {\n",
       "        vertical-align: top;\n",
       "    }\n",
       "\n",
       "    .dataframe thead th {\n",
       "        text-align: right;\n",
       "    }\n",
       "</style>\n",
       "<table border=\"1\" class=\"dataframe\">\n",
       "  <thead>\n",
       "    <tr style=\"text-align: right;\">\n",
       "      <th></th>\n",
       "      <th>id</th>\n",
       "      <th>question</th>\n",
       "      <th>content</th>\n",
       "      <th>training_data_type</th>\n",
       "    </tr>\n",
       "  </thead>\n",
       "  <tbody>\n",
       "    <tr>\n",
       "      <th>0</th>\n",
       "      <td>b19949a0-4e68-5f82-8b8e-c76757cee726-ddl</td>\n",
       "      <td>None</td>\n",
       "      <td>\\nCREATE TABLE IF NOT EXISTS public.actor\\n(\\n...</td>\n",
       "      <td>ddl</td>\n",
       "    </tr>\n",
       "    <tr>\n",
       "      <th>0</th>\n",
       "      <td>754f0b1f-7404-5c74-bf12-742fcea3db41-doc</td>\n",
       "      <td>None</td>\n",
       "      <td>The following columns are in the film_list tab...</td>\n",
       "      <td>documentation</td>\n",
       "    </tr>\n",
       "    <tr>\n",
       "      <th>1</th>\n",
       "      <td>15a05e3b-af15-5f2e-bcd3-b5c2bd17173b-doc</td>\n",
       "      <td>None</td>\n",
       "      <td>The following columns are in the address table...</td>\n",
       "      <td>documentation</td>\n",
       "    </tr>\n",
       "    <tr>\n",
       "      <th>2</th>\n",
       "      <td>ef4ea3e1-ea07-5bc6-9b85-3c8d9f2f0ab7-doc</td>\n",
       "      <td>None</td>\n",
       "      <td>The following columns are in the payment_p2020...</td>\n",
       "      <td>documentation</td>\n",
       "    </tr>\n",
       "    <tr>\n",
       "      <th>3</th>\n",
       "      <td>0a4461d4-75fc-54d9-a4bb-0a8f4fe4fc9f-doc</td>\n",
       "      <td>None</td>\n",
       "      <td>The following columns are in the customer tabl...</td>\n",
       "      <td>documentation</td>\n",
       "    </tr>\n",
       "    <tr>\n",
       "      <th>4</th>\n",
       "      <td>1db5e2bb-ae84-5c1e-9e28-80815f4df909-doc</td>\n",
       "      <td>None</td>\n",
       "      <td>The following columns are in the actor table i...</td>\n",
       "      <td>documentation</td>\n",
       "    </tr>\n",
       "    <tr>\n",
       "      <th>5</th>\n",
       "      <td>cf54ad19-5d5e-5117-9e25-a5902a463c65-doc</td>\n",
       "      <td>None</td>\n",
       "      <td>The following columns are in the staff_list ta...</td>\n",
       "      <td>documentation</td>\n",
       "    </tr>\n",
       "    <tr>\n",
       "      <th>6</th>\n",
       "      <td>cfa0d3d3-cb2f-5aa8-ba89-5c8dd642dd79-doc</td>\n",
       "      <td>None</td>\n",
       "      <td>The following columns are in the category tabl...</td>\n",
       "      <td>documentation</td>\n",
       "    </tr>\n",
       "    <tr>\n",
       "      <th>7</th>\n",
       "      <td>1c68fb51-526b-5bcb-ae0c-edfddcdbf36f-doc</td>\n",
       "      <td>None</td>\n",
       "      <td>The following columns are in the payment_p2020...</td>\n",
       "      <td>documentation</td>\n",
       "    </tr>\n",
       "    <tr>\n",
       "      <th>8</th>\n",
       "      <td>1a41a450-53c8-56f3-89a3-cc8708ea4293-doc</td>\n",
       "      <td>None</td>\n",
       "      <td>The following columns are in the film table in...</td>\n",
       "      <td>documentation</td>\n",
       "    </tr>\n",
       "    <tr>\n",
       "      <th>9</th>\n",
       "      <td>bea32fb8-7bf5-5de3-9f21-de3ed748dd47-doc</td>\n",
       "      <td>None</td>\n",
       "      <td>The following columns are in the store table i...</td>\n",
       "      <td>documentation</td>\n",
       "    </tr>\n",
       "    <tr>\n",
       "      <th>10</th>\n",
       "      <td>ca5c16e9-418b-5ec7-bf82-cd68165f95b5-doc</td>\n",
       "      <td>None</td>\n",
       "      <td>The following columns are in the rental table ...</td>\n",
       "      <td>documentation</td>\n",
       "    </tr>\n",
       "    <tr>\n",
       "      <th>11</th>\n",
       "      <td>064c8fb5-61c8-564e-9685-5ada14c48710-doc</td>\n",
       "      <td>None</td>\n",
       "      <td>The following columns are in the payment_p2020...</td>\n",
       "      <td>documentation</td>\n",
       "    </tr>\n",
       "    <tr>\n",
       "      <th>12</th>\n",
       "      <td>e094a99f-68e6-57eb-bf73-784168743992-doc</td>\n",
       "      <td>None</td>\n",
       "      <td>The following columns are in the sales_by_stor...</td>\n",
       "      <td>documentation</td>\n",
       "    </tr>\n",
       "    <tr>\n",
       "      <th>13</th>\n",
       "      <td>09ec03e2-314a-5e60-b37b-727f74428299-doc</td>\n",
       "      <td>None</td>\n",
       "      <td>The following columns are in the customer_list...</td>\n",
       "      <td>documentation</td>\n",
       "    </tr>\n",
       "    <tr>\n",
       "      <th>14</th>\n",
       "      <td>8ab53152-6a4a-52a0-8728-65cb2c209ab6-doc</td>\n",
       "      <td>None</td>\n",
       "      <td>The following columns are in the nicer_but_slo...</td>\n",
       "      <td>documentation</td>\n",
       "    </tr>\n",
       "    <tr>\n",
       "      <th>15</th>\n",
       "      <td>bb5a6ac3-adf4-55f9-bd16-fb85898b2d19-doc</td>\n",
       "      <td>None</td>\n",
       "      <td>The following columns are in the language tabl...</td>\n",
       "      <td>documentation</td>\n",
       "    </tr>\n",
       "    <tr>\n",
       "      <th>16</th>\n",
       "      <td>d2ce724d-402d-5cf2-985e-13700c9700e2-doc</td>\n",
       "      <td>None</td>\n",
       "      <td>The following columns are in the payment_p2020...</td>\n",
       "      <td>documentation</td>\n",
       "    </tr>\n",
       "    <tr>\n",
       "      <th>17</th>\n",
       "      <td>d78e1567-e154-5b9a-8495-64b059f197d1-doc</td>\n",
       "      <td>None</td>\n",
       "      <td>The following columns are in the staff table i...</td>\n",
       "      <td>documentation</td>\n",
       "    </tr>\n",
       "    <tr>\n",
       "      <th>18</th>\n",
       "      <td>4df5fd8f-0e59-50cc-9b2f-1f8a745015ec-doc</td>\n",
       "      <td>None</td>\n",
       "      <td>The following columns are in the payment_p2020...</td>\n",
       "      <td>documentation</td>\n",
       "    </tr>\n",
       "    <tr>\n",
       "      <th>19</th>\n",
       "      <td>44a2bec9-4216-5638-8f9c-6c63e291d08f-doc</td>\n",
       "      <td>None</td>\n",
       "      <td>The following columns are in the country table...</td>\n",
       "      <td>documentation</td>\n",
       "    </tr>\n",
       "    <tr>\n",
       "      <th>20</th>\n",
       "      <td>9df939b2-4b1e-5fe6-8398-fc2186e9e6b9-doc</td>\n",
       "      <td>None</td>\n",
       "      <td>The following columns are in the payment_p2020...</td>\n",
       "      <td>documentation</td>\n",
       "    </tr>\n",
       "    <tr>\n",
       "      <th>21</th>\n",
       "      <td>50444376-c718-5e41-bd63-08c0011f65ab-doc</td>\n",
       "      <td>None</td>\n",
       "      <td>The following columns are in the payment table...</td>\n",
       "      <td>documentation</td>\n",
       "    </tr>\n",
       "    <tr>\n",
       "      <th>22</th>\n",
       "      <td>f20ffb8b-dbbf-53f1-8586-afbdacff1ed7-doc</td>\n",
       "      <td>None</td>\n",
       "      <td>The following columns are in the inventory tab...</td>\n",
       "      <td>documentation</td>\n",
       "    </tr>\n",
       "    <tr>\n",
       "      <th>23</th>\n",
       "      <td>d96c9514-481d-5aec-8e6a-e5b0db111dc3-doc</td>\n",
       "      <td>None</td>\n",
       "      <td>The following columns are in the actor_info ta...</td>\n",
       "      <td>documentation</td>\n",
       "    </tr>\n",
       "    <tr>\n",
       "      <th>24</th>\n",
       "      <td>825204f1-0bcf-5ec6-bfb6-1a6ab75d1a99-doc</td>\n",
       "      <td>None</td>\n",
       "      <td>The following columns are in the film_category...</td>\n",
       "      <td>documentation</td>\n",
       "    </tr>\n",
       "    <tr>\n",
       "      <th>25</th>\n",
       "      <td>b51944b0-667c-56eb-9a6d-8b89eaf2a9da-doc</td>\n",
       "      <td>None</td>\n",
       "      <td>The following columns are in the film_actor ta...</td>\n",
       "      <td>documentation</td>\n",
       "    </tr>\n",
       "    <tr>\n",
       "      <th>26</th>\n",
       "      <td>b838f352-63f8-564e-a823-9ad983edbb3b-doc</td>\n",
       "      <td>None</td>\n",
       "      <td>The following columns are in the sales_by_film...</td>\n",
       "      <td>documentation</td>\n",
       "    </tr>\n",
       "    <tr>\n",
       "      <th>27</th>\n",
       "      <td>a13b9701-b28c-5710-9710-ac005bfdb22d-doc</td>\n",
       "      <td>None</td>\n",
       "      <td>The following columns are in the city table in...</td>\n",
       "      <td>documentation</td>\n",
       "    </tr>\n",
       "  </tbody>\n",
       "</table>\n",
       "</div>"
      ],
      "text/plain": [
       "                                          id question  \\\n",
       "0   b19949a0-4e68-5f82-8b8e-c76757cee726-ddl     None   \n",
       "0   754f0b1f-7404-5c74-bf12-742fcea3db41-doc     None   \n",
       "1   15a05e3b-af15-5f2e-bcd3-b5c2bd17173b-doc     None   \n",
       "2   ef4ea3e1-ea07-5bc6-9b85-3c8d9f2f0ab7-doc     None   \n",
       "3   0a4461d4-75fc-54d9-a4bb-0a8f4fe4fc9f-doc     None   \n",
       "4   1db5e2bb-ae84-5c1e-9e28-80815f4df909-doc     None   \n",
       "5   cf54ad19-5d5e-5117-9e25-a5902a463c65-doc     None   \n",
       "6   cfa0d3d3-cb2f-5aa8-ba89-5c8dd642dd79-doc     None   \n",
       "7   1c68fb51-526b-5bcb-ae0c-edfddcdbf36f-doc     None   \n",
       "8   1a41a450-53c8-56f3-89a3-cc8708ea4293-doc     None   \n",
       "9   bea32fb8-7bf5-5de3-9f21-de3ed748dd47-doc     None   \n",
       "10  ca5c16e9-418b-5ec7-bf82-cd68165f95b5-doc     None   \n",
       "11  064c8fb5-61c8-564e-9685-5ada14c48710-doc     None   \n",
       "12  e094a99f-68e6-57eb-bf73-784168743992-doc     None   \n",
       "13  09ec03e2-314a-5e60-b37b-727f74428299-doc     None   \n",
       "14  8ab53152-6a4a-52a0-8728-65cb2c209ab6-doc     None   \n",
       "15  bb5a6ac3-adf4-55f9-bd16-fb85898b2d19-doc     None   \n",
       "16  d2ce724d-402d-5cf2-985e-13700c9700e2-doc     None   \n",
       "17  d78e1567-e154-5b9a-8495-64b059f197d1-doc     None   \n",
       "18  4df5fd8f-0e59-50cc-9b2f-1f8a745015ec-doc     None   \n",
       "19  44a2bec9-4216-5638-8f9c-6c63e291d08f-doc     None   \n",
       "20  9df939b2-4b1e-5fe6-8398-fc2186e9e6b9-doc     None   \n",
       "21  50444376-c718-5e41-bd63-08c0011f65ab-doc     None   \n",
       "22  f20ffb8b-dbbf-53f1-8586-afbdacff1ed7-doc     None   \n",
       "23  d96c9514-481d-5aec-8e6a-e5b0db111dc3-doc     None   \n",
       "24  825204f1-0bcf-5ec6-bfb6-1a6ab75d1a99-doc     None   \n",
       "25  b51944b0-667c-56eb-9a6d-8b89eaf2a9da-doc     None   \n",
       "26  b838f352-63f8-564e-a823-9ad983edbb3b-doc     None   \n",
       "27  a13b9701-b28c-5710-9710-ac005bfdb22d-doc     None   \n",
       "\n",
       "                                              content training_data_type  \n",
       "0   \\nCREATE TABLE IF NOT EXISTS public.actor\\n(\\n...                ddl  \n",
       "0   The following columns are in the film_list tab...      documentation  \n",
       "1   The following columns are in the address table...      documentation  \n",
       "2   The following columns are in the payment_p2020...      documentation  \n",
       "3   The following columns are in the customer tabl...      documentation  \n",
       "4   The following columns are in the actor table i...      documentation  \n",
       "5   The following columns are in the staff_list ta...      documentation  \n",
       "6   The following columns are in the category tabl...      documentation  \n",
       "7   The following columns are in the payment_p2020...      documentation  \n",
       "8   The following columns are in the film table in...      documentation  \n",
       "9   The following columns are in the store table i...      documentation  \n",
       "10  The following columns are in the rental table ...      documentation  \n",
       "11  The following columns are in the payment_p2020...      documentation  \n",
       "12  The following columns are in the sales_by_stor...      documentation  \n",
       "13  The following columns are in the customer_list...      documentation  \n",
       "14  The following columns are in the nicer_but_slo...      documentation  \n",
       "15  The following columns are in the language tabl...      documentation  \n",
       "16  The following columns are in the payment_p2020...      documentation  \n",
       "17  The following columns are in the staff table i...      documentation  \n",
       "18  The following columns are in the payment_p2020...      documentation  \n",
       "19  The following columns are in the country table...      documentation  \n",
       "20  The following columns are in the payment_p2020...      documentation  \n",
       "21  The following columns are in the payment table...      documentation  \n",
       "22  The following columns are in the inventory tab...      documentation  \n",
       "23  The following columns are in the actor_info ta...      documentation  \n",
       "24  The following columns are in the film_category...      documentation  \n",
       "25  The following columns are in the film_actor ta...      documentation  \n",
       "26  The following columns are in the sales_by_film...      documentation  \n",
       "27  The following columns are in the city table in...      documentation  "
      ]
     },
     "execution_count": 25,
     "metadata": {},
     "output_type": "execute_result"
    }
   ],
   "source": [
    "training_data = vn.get_training_data()\n",
    "training_data"
   ]
  },
  {
   "cell_type": "code",
   "execution_count": 26,
   "metadata": {},
   "outputs": [
    {
     "name": "stderr",
     "output_type": "stream",
     "text": [
      "Number of requested results 10 is greater than number of elements in index 1, updating n_results = 1\n"
     ]
    },
    {
     "name": "stdout",
     "output_type": "stream",
     "text": [
      "SQL Prompt: [{'role': 'system', 'content': 'You are a PostgreSQL expert. Please help to generate a SQL query to answer the question. Your response should ONLY be based on the given context and follow the response guidelines and format instructions. \\n===Tables \\n\\nCREATE TABLE IF NOT EXISTS public.actor\\n(\\n    actor_id integer NOT NULL DEFAULT nextval(\\'actor_actor_id_seq\\'::regclass),\\n    first_name text COLLATE pg_catalog.\"default\" NOT NULL,\\n    last_name text COLLATE pg_catalog.\"default\" NOT NULL,\\n    last_update timestamp with time zone NOT NULL DEFAULT now(),\\n    CONSTRAINT actor_pkey PRIMARY KEY (actor_id)\\n)\\n\\n\\n\\n===Additional Context \\n\\nThe following columns are in the actor_info table in the pagila database:\\n\\n|     | table_catalog   | table_schema   | table_name   | column_name   | data_type   |\\n|----:|:----------------|:---------------|:-------------|:--------------|:------------|\\n|  60 | pagila          | public         | actor_info   | first_name    | text        |\\n| 107 | pagila          | public         | actor_info   | last_name     | text        |\\n| 123 | pagila          | public         | actor_info   | film_info     | text        |\\n| 136 | pagila          | public         | actor_info   | actor_id      | integer     |\\n\\nThe following columns are in the actor table in the pagila database:\\n\\n|     | table_catalog   | table_schema   | table_name   | column_name   | data_type                |\\n|----:|:----------------|:---------------|:-------------|:--------------|:-------------------------|\\n|   4 | pagila          | public         | actor        | last_update   | timestamp with time zone |\\n|  25 | pagila          | public         | actor        | actor_id      | integer                  |\\n|  33 | pagila          | public         | actor        | last_name     | text                     |\\n| 159 | pagila          | public         | actor        | first_name    | text                     |\\n\\n===Response Guidelines \\n1. If the provided context is sufficient, please generate a valid SQL query without any explanations for the question. \\n2. If the provided context is almost sufficient but requires knowledge of a specific string in a particular column, please generate an intermediate SQL query to find the distinct strings in that column. Prepend the query with a comment saying intermediate_sql \\n3. If the provided context is insufficient, please explain why it can\\'t be generated. \\n4. Please use the most relevant table(s). \\n5. If the question has been asked and answered before, please repeat the answer exactly as it was given before. \\n6. Ensure that the output SQL is PostgreSQL-compliant and executable, and free of syntax errors. \\n'}, {'role': 'user', 'content': 'How many total actors in actor database?'}]\n",
      "LLM Response: SELECT COUNT(*) FROM actor;\n",
      "Extracted SQL: SELECT COUNT(*) FROM actor;\n",
      "SELECT COUNT(*) FROM actor;\n",
      "   count\n",
      "0    200\n"
     ]
    },
    {
     "name": "stderr",
     "output_type": "stream",
     "text": [
      "huggingface/tokenizers: The current process just got forked, after parallelism has already been used. Disabling parallelism to avoid deadlocks...\n",
      "To disable this warning, you can either:\n",
      "\t- Avoid using `tokenizers` before the fork if possible\n",
      "\t- Explicitly set the environment variable TOKENIZERS_PARALLELISM=(true | false)\n"
     ]
    },
    {
     "data": {
      "image/png": "[encoded data removed]",
      "text/plain": [
       "<IPython.core.display.Image object>"
      ]
     },
     "metadata": {},
     "output_type": "display_data"
    },
    {
     "data": {
      "text/plain": [
       "('SELECT COUNT(*) FROM actor;',\n",
       "    count\n",
       " 0    200,\n",
       " Figure({\n",
       "     'data': [{'mode': 'number', 'title': {'text': 'Total Actors'}, 'type': 'indicator', 'value': np.int64(200)}],\n",
       "     'layout': {'template': '...'}\n",
       " }))"
      ]
     },
     "execution_count": 26,
     "metadata": {},
     "output_type": "execute_result"
    }
   ],
   "source": [
    "vn.ask(\"How many total actors in actor database?\")"
   ]
  },
  {
   "cell_type": "code",
   "execution_count": 27,
   "metadata": {},
   "outputs": [
    {
     "name": "stdout",
     "output_type": "stream",
     "text": [
      "Your app is running at:\n",
      "http://localhost:8084\n",
      " * Serving Flask app 'vanna.flask'\n",
      " * Debug mode: on\n"
     ]
    }
   ],
   "source": [
    "from vanna.flask import VannaFlaskApp\n",
    "VannaFlaskApp(vn).run()"
   ]
  },
  {
   "cell_type": "code",
   "execution_count": null,
   "metadata": {},
   "outputs": [],
   "source": []
  }
 ],
 "metadata": {
  "kernelspec": {
   "display_name": ".venv",
   "language": "python",
   "name": "python3"
  },
  "language_info": {
   "codemirror_mode": {
    "name": "ipython",
    "version": 3
   },
   "file_extension": ".py",
   "mimetype": "text/x-python",
   "name": "python",
   "nbconvert_exporter": "python",
   "pygments_lexer": "ipython3",
   "version": "3.13.2"
  }
 },
 "nbformat": 4,
 "nbformat_minor": 2
}
