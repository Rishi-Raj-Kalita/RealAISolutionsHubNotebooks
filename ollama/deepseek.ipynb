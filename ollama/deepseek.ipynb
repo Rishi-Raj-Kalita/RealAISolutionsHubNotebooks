{
 "cells": [
  {
   "cell_type": "code",
   "execution_count": 6,
   "metadata": {},
   "outputs": [
    {
     "name": "stdout",
     "output_type": "stream",
     "text": [
      "\n",
      "\u001b[1m[\u001b[0m\u001b[34;49mnotice\u001b[0m\u001b[1;39;49m]\u001b[0m\u001b[39;49m A new release of pip is available: \u001b[0m\u001b[31;49m24.3.1\u001b[0m\u001b[39;49m -> \u001b[0m\u001b[32;49m25.0.1\u001b[0m\n",
      "\u001b[1m[\u001b[0m\u001b[34;49mnotice\u001b[0m\u001b[1;39;49m]\u001b[0m\u001b[39;49m To update, run: \u001b[0m\u001b[32;49mpip3 install --upgrade pip\u001b[0m\n",
      "Note: you may need to restart the kernel to use updated packages.\n"
     ]
    }
   ],
   "source": [
    " # install package\n",
    "%pip install -qU langchain-ollama ollama"
   ]
  },
  {
   "cell_type": "code",
   "execution_count": 8,
   "metadata": {},
   "outputs": [
    {
     "name": "stdout",
     "output_type": "stream",
     "text": [
      "<think>\n",
      "Okay, so I need to explain Newton's second law of motion. Hmm, where do I start? I remember from school that it's one of the three laws Sir Isaac Newton came up with. But what exactly does it say?\n",
      "\n",
      "I think it has something to do with force and acceleration. Oh right, force causes acceleration! So maybe the law relates how much a force affects an object's motion based on its mass.\n",
      "\n",
      "Wait, I'm a bit fuzzy on the details. Let me see if I can remember any formulas or key points. Newton's second law is probably expressed mathematically as F equals m times a, right? Where F stands for force, m for mass, and a for acceleration. So it's F = ma.\n",
      "\n",
      "But why does that make sense? Well, if you push something really heavy with the same force as something lighter, the heavier one should accelerate more slowly because it has more mass. Yeah, so acceleration is inversely proportional to mass when the force applied is constant. That part I get a bit now.\n",
      "\n",
      "Also, the law probably means that without any force acting on an object, its motion doesn't change. So if it's moving at a constant velocity, it keeps going like that unless something pushes or pulls it. But wait, Newton's second law specifically talks about when there is a net external force, so maybe it's part of the same broader idea as his first law.\n",
      "\n",
      "Oh right, Newton's first law is the law of inertia—without any external forces, an object will maintain its state of motion. So Newton's second law builds on that by quantifying how forces affect that motion.\n",
      "\n",
      "So putting it all together: Newton's second law states that the acceleration of an object is directly proportional to the net force acting on it and inversely proportional to its mass. The greater the force, the greater the acceleration, and the more massive the object, the less it accelerates for the same force.\n",
      "\n",
      "I should probably explain each component in simple terms. Force as a push or pull, mass as how much matter is in an object (heavier things are harder to accelerate), and acceleration as the rate at which velocity changes.\n",
      "\n",
      "Also, maybe mention that this law applies to objects of constant mass, so if mass changes, like in rocket propulsion where fuel is expelled, you have to be careful because the mass decreases. But for most basic problems, we assume mass doesn't change much.\n",
      "\n",
      "An example would help clarify it further. If a small car and a large truck are both pushed with the same force, the car accelerates more because its mass is less. Or if two people push boxes of different weights with the same effort (force), the lighter box accelerates faster.\n",
      "\n",
      "I think I have a handle on this now. To summarize: Newton's second law connects force and acceleration through the object's mass. The formula F = ma shows that for a given force, smaller masses accelerate more, and larger masses accelerate less. It builds upon the idea of inertia from his first law, providing a quantitative relationship.\n",
      "\n",
      "I should make sure to mention that this law is fundamental in physics because it allows us to predict and calculate how objects will move under various forces. It's used in engineering, space travel, and many other fields where understanding motion is crucial.\n",
      "</think>\n",
      "\n",
      "Newton's second law of motion is a foundational principle in physics that quantifies the relationship between force, mass, and acceleration. Here's a clear explanation:\n",
      "\n",
      "**Newton's Second Law Explained:**\n",
      "\n",
      "1. **Relationship Between Force, Mass, and Acceleration**: The law states that the acceleration of an object is directly proportional to the net external force acting on it and inversely proportional to its mass. This relationship is mathematically expressed as:\n",
      "   \n",
      "   \\[\n",
      "   F = m \\times a\n",
      "   \\]\n",
      "   \n",
      "   Where:\n",
      "   - \\( F \\) is the net force applied,\n",
      "   - \\( m \\) is the mass of the object,\n",
      "   - \\( a \\) is the acceleration produced.\n",
      "\n",
      "2. **Direct Proportionality to Force**: For a given mass, an increase in the net external force results in an increase in acceleration. Conversely, if the force decreases, so does the acceleration.\n",
      "\n",
      "3. **Inverse Proportionality to Mass**: For a constant applied force, objects with greater mass experience less acceleration. This means that heavier objects require more force to achieve the same acceleration as lighter ones.\n",
      "\n",
      "4. **Application Context**: This law is pivotal in physics and engineering for predicting motion under various forces. It is essential in fields like aerospace engineering, where understanding how forces affect rocket propulsion (with changing mass) is crucial.\n",
      "\n",
      "5. **Connection to Newton's First Law (Law of Inertia)**: While the first law introduces the concept of inertia—the resistance to changes in velocity—Newton's second law builds on this by providing a quantitative measure of how force influences motion.\n",
      "\n",
      "**Example**: Consider two boxes, one with a mass of 10 kg and another with 20 kg. If an equal force is applied to both, the 10 kg box will accelerate twice as fast as the 20 kg box. This illustrates the inverse relationship between mass and acceleration for a given force.\n",
      "\n",
      "**Conclusion**: Newton's second law is fundamental for understanding and calculating motion in various physical scenarios, enabling predictions and analyses in many scientific and engineering applications.\n"
     ]
    }
   ],
   "source": [
    "import ollama\n",
    "response = ollama.chat(\n",
    "    model=\"deepseek-r1:7b\",\n",
    "    messages=[\n",
    "        {\"role\": \"user\", \"content\": \"Explain Newton's second law of motion\"},\n",
    "    ],\n",
    ")\n",
    "print(response[\"message\"][\"content\"])"
   ]
  },
  {
   "cell_type": "code",
   "execution_count": 9,
   "metadata": {},
   "outputs": [
    {
     "name": "stdout",
     "output_type": "stream",
     "text": [
      "<think>\n",
      "\n",
      "</think>\n",
      "\n",
      "Hello! How can I assist you today? 😊\n"
     ]
    }
   ],
   "source": [
    "import ollama\n",
    "response = ollama.chat(\n",
    "    model=\"deepseek-r1:7b\",\n",
    "    messages=[\n",
    "        {\"role\": \"user\", \"content\": \"hello\"},\n",
    "    ],\n",
    ")\n",
    "print(response[\"message\"][\"content\"])"
   ]
  },
  {
   "cell_type": "code",
   "execution_count": 10,
   "metadata": {},
   "outputs": [
    {
     "name": "stdout",
     "output_type": "stream",
     "text": [
      "<think>\n",
      "Okay, so I need to figure out how many 'r's are in the word \"strawberry.\" Let me start by writing it down: S-T-R-A-W-B-E-R-R-Y. Hmm, that looks right.\n",
      "\n",
      "Now, going through each letter one by one. The first letter is S—no r there. Next is T—still no luck. Then A, W, B—all not rs either. Wait, the next letters are A and W again? Let me double-check: S-T-R-A-W-B-E-R-R-Y.\n",
      "\n",
      "Oh, I see! After the initial letters, we get to E, then R. So that's one r. But wait, after E comes another R. Let me count them carefully. Starting from the beginning:\n",
      "\n",
      "1. S\n",
      "2. T\n",
      "3. R (that's the first r)\n",
      "4. A\n",
      "5. W\n",
      "6. B\n",
      "7. E\n",
      "8. R (second r)\n",
      "9. R (third r)\n",
      "10. Y\n",
      "\n",
      "So, actually, there are three 'r's in \"strawberry.\" I initially thought maybe only two because sometimes people might miss the extra one at the end. But when I count each letter step by step, it becomes clear that there are three Rs.\n",
      "</think>\n",
      "\n",
      "The word \"strawberry\" contains **three** 'r' letters.\n",
      "\n",
      "Here's a breakdown of the letters in \"strawberry\":\n",
      "\n",
      "1. S\n",
      "2. T\n",
      "3. R (1)\n",
      "4. A\n",
      "5. W\n",
      "6. B\n",
      "7. E\n",
      "8. R (2)\n",
      "9. R (3)\n",
      "10. Y\n",
      "\n",
      "So, there are three 'r's in total.\n",
      "\n",
      "**Answer:** There are 3 'r's in \"strawberry.\"\n"
     ]
    }
   ],
   "source": [
    "import ollama\n",
    "response = ollama.chat(\n",
    "    model=\"deepseek-r1:7b\",\n",
    "    messages=[\n",
    "        {\"role\": \"user\", \"content\": \"how many r in strawberry\"},\n",
    "    ],\n",
    ")\n",
    "print(response[\"message\"][\"content\"])"
   ]
  },
  {
   "cell_type": "code",
   "execution_count": 12,
   "metadata": {},
   "outputs": [
    {
     "data": {
      "text/plain": [
       "'<think>\\nOkay, so I need to figure out what LangChain is. I\\'ve heard the term before, especially in tech circles related to AI and machine learning. Let me try to break it down.\\n\\nFirst, I know that \"Lang\" probably stands for language. Maybe it\\'s related to languages? And \"Chain\" sounds like a series or sequence of something. So maybe LangChain is about processing language through some kind of chain?\\n\\nI remember hearing about large language models (LLMs) like GPT-4 or ChatGPT. These can generate text, answer questions, and do various tasks. But how does that relate to LangChain? Maybe it\\'s a tool or framework that uses these LLMs.\\n\\nWait, I think I\\'ve heard the term \"LLM\" before as well. So perhaps LangChain is an open-source library built on top of an LLM. That makes sense because sometimes people use different libraries or frameworks to build specific applications around existing models.\\n\\nWhat are some common applications for LLMs? Well-known ones include chatbots, content generation, virtual assistants like Siri or Alexa, question answering systems, and even creative writing tools. So LangChain might be a framework that helps developers create these kinds of applications by providing ready-to-use components.\\n\\nI think I\\'ve heard something about LangChain integrating with other tools like Hugging Face Transformers. That\\'s a library for NLP models, right? So maybe LangChain uses Hugging Face Transformers under the hood to access and utilize pre-trained language models.\\n\\nLet me try to piece it together. If LangChain is built on LLMs or similar technologies, then it probably provides a structured way to create applications that leverage these models. It might offer modules for different tasks like text generation, information extraction, summarization, etc.\\n\\nI remember reading about something called \"zero-shot\" learning in AI, where the model can apply knowledge without being specifically trained on new data. Maybe LangChain facilitates this kind of capability by using the LLM\\'s existing knowledge to handle various tasks without extensive retraining.\\n\\nAnother thing I\\'m thinking about is how LangChain could allow for chaining actions. Like, if a task requires multiple steps involving different parts of language processing, LangChain might make it easier to sequence these steps together in a logical flow.\\n\\nI also wonder about the structure of LangChain. Is it modular? Can users add their own components or integrate custom models without much hassle? That would be a big plus for flexibility in building tailored applications.\\n\\nIn terms of use cases, developers could build chatbots that handle complex queries by chaining responses through multiple LLMs. Or create tools that generate content based on user interactions and then analyze it for deeper insights using another model.\\n\\nI\\'m not entirely sure about the history or who developed LangChain, but I think it\\'s been around for a few years now as part of the AI ecosystem. It must be popular because it offers a way to build scalable applications without needing deep expertise in fine-tuning large models.\\n\\nWait, maybe I should check if LangChain is an official term. A quick search shows that LangChain stands for Large Language Chain, which refers to using advanced language models to handle complex tasks through layered or chained processing. So the idea is not just a single model but combining multiple models or layers within one framework to enhance functionality.\\n\\nThat makes sense. It\\'s about leveraging the power of large language models in a structured and scalable way. This approach can make building custom AI applications more accessible by providing pre-built modules and tools that developers can utilize without having to start from scratch each time.\\n\\nIn summary, LangChain seems to be an open-source framework designed to build applications using large language models. It likely offers components for various tasks like text generation, analysis, and processing, enabling developers to create sophisticated AI systems more efficiently.\\n</think>\\n\\nLangChain is an open-source framework built on top of large language models (LLMs) such as GPT-4 or ChatGPT. It provides a structured approach to developing applications by offering pre-built components for tasks like text generation, information extraction, and analysis. LangChain leverages these LLMs to enable zero-shot learning, allowing systems to perform tasks without extensive retraining. It facilitates chaining actions, enabling complex processes that involve multiple steps of language processing. The framework is modular, supporting integration with libraries like Hugging Face Transformers and enabling flexible application development by allowing users to add custom components or models. LangChain enhances scalability and accessibility for developers creating AI applications, making it a valuable tool in the AI ecosystem.'"
      ]
     },
     "execution_count": 12,
     "metadata": {},
     "output_type": "execute_result"
    }
   ],
   "source": [
    "from langchain_core.prompts import ChatPromptTemplate\n",
    "from langchain_ollama.llms import OllamaLLM\n",
    "\n",
    "template = \"\"\"Question: {question}\n",
    "\n",
    "Answer: Let's think step by step.\"\"\"\n",
    "\n",
    "prompt = ChatPromptTemplate.from_template(template)\n",
    "\n",
    "model = OllamaLLM(model=\"deepseek-r1:7b\")\n",
    "\n",
    "chain = prompt | model\n",
    "\n",
    "chain.invoke({\"question\": \"What is LangChain?\"})"
   ]
  },
  {
   "cell_type": "code",
   "execution_count": 13,
   "metadata": {},
   "outputs": [
    {
     "data": {
      "text/plain": [
       "'<think>\\nOkay, so I need to figure out what OpenAI is. I\\'ve heard a lot about it in the context of AI and machine learning, but I\\'m not exactly sure what it specifically does. Let me start by breaking down my thoughts.\\n\\nFirst off, OpenAI stands for \"Omniplex Artificial Intelligence\" if I remember correctly. It\\'s pronounced as Oh-PAY-key or something like that. From what I know, they\\'re a big company in the tech industry, probably working on AI-related stuff because of all the buzz around it.\\n\\nI think OpenAI developed something called GPT, which stands for Generative Pre-trained Transformer. I\\'ve heard people talking about GPT-3 being a major breakthrough. It\\'s supposed to be like the next step after GPT-2. But how does that work? GPT is used for generating text, right? Like writing articles or answering questions in a natural language way.\\n\\nWait, so OpenAI isn\\'t just making chatbots anymore with just regular AI; they\\'re pushing boundaries in generative AI. I remember reading somewhere about it being able to write code and solve complex problems beyond human capability by processing massive amounts of data. That sounds pretty advanced.\\n\\nBut then there\\'s the part about safety and ethics. I\\'ve heard concerns raised about AI making decisions that could harm people or society. So OpenAI must be involved in ensuring their AI systems are safe and don\\'t cause unintended harm. They probably have guidelines or regulations to govern how these AI tools are used.\\n\\nI\\'m also thinking about how companies like OpenAI interact with other platforms. I know that some businesses integrate GPT into their chatbots, which makes customer interactions feel more human-like because the AI can generate responses based on extensive training data. But how does this integration work? Do they just plug it in, or is there a specific process?\\n\\nAnother thing I\\'m curious about is whether OpenAI offers any APIs for developers to build custom applications using their AI models. I believe they do, which would make it easier for other businesses to leverage GPT without needing deep technical knowledge themselves.\\n\\nThere\\'s also the aspect of how OpenAI collaborates with other organizations or institutions. Are they involved in research projects that benefit education, healthcare, or other sectors? Maybe they\\'re working on applications that improve productivity or solve real-world problems more effectively than before.\\n\\nI should consider the mission of OpenAI beyond just their products. Their stated goals include advancing AI safely and making sure it benefits humanity. So, they might be involved in educational initiatives or providing resources to help others understand and utilize AI responsibly.\\n\\nBut I\\'m still a bit fuzzy on how exactly GPT-3 works compared to earlier models like GPT-2. I know GPT uses transformers, which are a type of neural network architecture that\\'s been very effective in natural language processing tasks. GPT-3 is much larger, having processed an astronomical amount of data (about 50 billion tokens) during training. This allows it to have a deeper understanding and context, making its responses more coherent and nuanced.\\n\\nAlso, I wonder about the future applications of OpenAI\\'s technology. Beyond chatbots, could it be used in creative industries like writing novels or composing music? Or perhaps in scientific research for data analysis and hypothesis generation?\\n\\nThere\\'s also the consideration of competition. Who else is in the race for developing advanced AI systems? Companies like DeepMind, Microsoft, and Google are probably involved too. OpenAI might have a unique position because it\\'s one of the first major players to publicly develop such sophisticated models.\\n\\nI\\'m trying to recall if there were any significant milestones or achievements from OpenAI besides GPT-3. I think they also worked on improving the model iteratively after its release, addressing issues like bias and ensuring fairness in AI outputs. That makes sense as part of their commitment to ethical AI development.\\n\\nIn terms of public perception, how do people generally feel about OpenAI\\'s advancements? Are there any controversies or pushback against their technology? Maybe some argue that having such powerful AI tools could lead to misuse if not properly regulated, hence the emphasis on safety and ethics by OpenAI themselves.\\n\\nI also think about accessibility. Do OpenAI models offer any free tiers or services for users who might not have access to high-powered computing resources? That would make their technology more widely available and encourage broader adoption beyond just large corporations.\\n\\nLastly, I\\'m considering how OpenAI\\'s work could impact different industries. For example, in education, AI-driven tools could personalize learning experiences for students. In healthcare, they might assist in diagnosing diseases or recommending treatments based on vast medical datasets.\\n\\nTo sum up my thoughts: OpenAI is a leading company focused on developing advanced generative AI systems like GPT-3, known for their ability to perform tasks like writing and problem-solving. They emphasize safety, ethics, and accessibility of their technology, collaborating with various organizations to apply this AI in beneficial ways across different sectors. Their work has the potential to transform multiple industries by making AI more coherent and responsible.\\n</think>\\n\\n**OpenAI: A Comprehensive Overview**\\n\\n**Introduction:**\\nOpenAI, short for Omniplex Artificial Intelligence, is a leading artificial intelligence research organization founded in 2015. Known for developing advanced generative AI systems like GPT-3, OpenAI has become a pivotal force in the AI landscape.\\n\\n**Core Technology and Contributions:**\\n- **Generative AI:** OpenAI\\'s most notable contribution is GPT-3, an evolution of their earlier models (e.g., GPT-2). GPT-3 processes 50 billion tokens of text data, enabling it to generate coherent and nuanced responses across various tasks.\\n- **Applications Beyond Chatbots:** Beyond chatbots, GPT-3 can be used in creative industries like writing novels or composing music, as well as scientific research for data analysis.\\n\\n**Ethics and Safety:**\\n- **Moral Responsibility:** OpenAI prioritizes ethical considerations, focusing on ensuring AI systems operate safely and without unintended harm. They address issues like bias and fairness to promote responsible AI development.\\n- **Public Perception:** While advanced, OpenAI emphasizes the positive impact of their technology on society, encouraging responsible use through transparency and regulation.\\n\\n**Integration and Accessibility:**\\n- **APIs for Developers:** OpenAI offers APIs allowing businesses and developers to integrate GPT into applications, facilitating a wide range of uses from customer service chatbots to custom AI tools.\\n- **Affordability:** Accessible tiers are available, making their technology accessible beyond large corporations through various subscription models.\\n\\n**Collaborations and Impact:**\\n- **Sector Applications:** OpenAI collaborates with organizations across industries, applying AI to enhance education, healthcare, productivity, and more. Their technology has the potential to transform sectors by providing solutions that benefit humanity.\\n- **Educational Initiatives:** Their efforts include educational tools that personalize learning experiences, demonstrating their commitment to positive societal impact.\\n\\n**Competition and Milestones:**\\nWhile not the sole player in AI development (with competitors like DeepMind, Microsoft, and Google), OpenAI\\'s transparent approach has established a unique position. They iteratively improve GPT-3 based on feedback, addressing issues like bias for better AI outputs.\\n\\n**Conclusion:**\\nOpenAI represents a significant advancement in AI, offering powerful tools with a strong emphasis on ethical use. Their work holds the potential to transform industries by creating coherent, responsible, and beneficial applications of AI technology.'"
      ]
     },
     "execution_count": 13,
     "metadata": {},
     "output_type": "execute_result"
    }
   ],
   "source": [
    "from langchain_core.prompts import ChatPromptTemplate\n",
    "from langchain_ollama.llms import OllamaLLM\n",
    "\n",
    "template = \"\"\"Question: {question}\n",
    "\n",
    "Answer: Let's think step by step.\"\"\"\n",
    "\n",
    "prompt = ChatPromptTemplate.from_template(template)\n",
    "\n",
    "model = OllamaLLM(model=\"deepseek-r1:7b\")\n",
    "\n",
    "chain = prompt | model\n",
    "\n",
    "chain.invoke({\"question\": \"What is openai\"})"
   ]
  },
  {
   "cell_type": "code",
   "execution_count": null,
   "metadata": {},
   "outputs": [],
   "source": []
  }
 ],
 "metadata": {
  "kernelspec": {
   "display_name": "Python 3",
   "language": "python",
   "name": "python3"
  },
  "language_info": {
   "codemirror_mode": {
    "name": "ipython",
    "version": 3
   },
   "file_extension": ".py",
   "mimetype": "text/x-python",
   "name": "python",
   "nbconvert_exporter": "python",
   "pygments_lexer": "ipython3",
   "version": "3.13.2"
  }
 },
 "nbformat": 4,
 "nbformat_minor": 2
}
